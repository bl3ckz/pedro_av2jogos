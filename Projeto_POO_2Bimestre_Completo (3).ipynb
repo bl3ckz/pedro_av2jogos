{
  "cells": [
    {
      "cell_type": "markdown",
      "id": "fcbe0b0b",
      "metadata": {
        "id": "fcbe0b0b"
      },
      "source": [
        "# 📘 Projeto de Programação Orientada a Objetos – 2º Bimestre\n",
        "\n",
        "**Pedro Gabriel Machi Dantas**                      \n",
        "\n",
        "**2ATI**\n",
        "\n",
        "**Sistema que registre pontuações em jogos escolares**"
      ]
    },
    {
      "cell_type": "markdown",
      "id": "47e697ce",
      "metadata": {
        "id": "47e697ce"
      },
      "source": [
        "Lembre-se esse projeto deve ser personalizado, todas as classe e metodos devem ter uma referencia ao seu nome, exemplo:\n",
        "\n",
        "class Carro_Fabio:\n",
        "\n",
        "    def __init__(self, tipo, cor, rodas):\n",
        "        self.tipo = tipo\n",
        "        self.cor = cor\n",
        "        self.rodas = rodas\n",
        "        \n",
        "    def alterar_cor_Fabio(self, nova_cor):\n",
        "        self.cor = nova_cor\n",
        "        return self.cor\n",
        "    "
      ]
    },
    {
      "cell_type": "markdown",
      "id": "bf0b9458",
      "metadata": {
        "id": "bf0b9458"
      },
      "source": [
        "## PARTE 1 – Classe Principal e Objetos\n",
        "\n",
        "**Tarefas:**\n",
        "- Definir e criar a classe principal com pelo menos 3 atributos.\n",
        "- Implementar o método construtor (`__init__`).\n",
        "- Criar pelo menos 2 objetos da classe principal.\n",
        "- Implementar um método de exibição de dados.\n",
        "\n",
        "**Código:**"
      ]
    },
    {
      "cell_type": "code",
      "execution_count": null,
      "id": "5721fa89",
      "metadata": {
        "id": "5721fa89"
      },
      "outputs": [],
      "source": [
        "class Jogador_Pedro:\n",
        "    def __init__(self, nome, idade, pontos):\n",
        "        self.nome = nome\n",
        "        self.idade = idade\n",
        "        self.__pontos = pontos  # atributo privado\n",
        "\n",
        "    def exibir_dados_Pedro(self):\n",
        "        print(f\"Nome: {self.nome} | Idade: {self.idade} | Pontos: {self.__pontos}\")\n",
        "\n",
        "# Criação de dois objetos\n",
        "jogador1 = Jogador_Pedro(input(\"Nome do jogador 1: \"), int(input(\"Idade: \")), int(input(\"Pontos: \")))\n",
        "jogador2 = Jogador_Pedro(input(\"Nome do jogador 2: \"), int(input(\"Idade: \")), int(input(\"Pontos: \")))\n",
        "\n",
        "jogador1.exibir_dados_Pedro()\n",
        "jogador2.exibir_dados_Pedro()\n"
      ]
    },
    {
      "cell_type": "markdown",
      "id": "f2cf3375",
      "metadata": {
        "id": "f2cf3375"
      },
      "source": [
        "## PARTE 2 – Métodos e Herança\n",
        "\n",
        "**Tarefas:**\n",
        "- Criar pelo menos 2 métodos de ação para a classe principal.\n",
        "- Criar uma subclasse herdando da classe principal.\n",
        "- Adicionar pelo menos 1 novo atributo e 1 novo método exclusivo na subclasse.\n",
        "- Utilizar `super()` no construtor da subclasse.\n",
        "\n",
        "**Código:**"
      ]
    },
    {
      "cell_type": "code",
      "execution_count": null,
      "id": "5f456eb1",
      "metadata": {
        "id": "5f456eb1"
      },
      "outputs": [],
      "source": [
        "class Jogador_Pedro:\n",
        "    def __init__(self, nome, idade, pontos):\n",
        "        self.nome = nome\n",
        "        self.idade = idade\n",
        "        self.__pontos = pontos\n",
        "\n",
        "    def adicionar_pontos_Pedro(self, valor):\n",
        "        self.__pontos += valor\n",
        "\n",
        "    def remover_pontos_Pedro(self, valor):\n",
        "        self.__pontos -= valor\n",
        "\n",
        "    def get_pontos_Pedro(self):\n",
        "        return self.__pontos\n",
        "\n",
        "    def exibir_dados_Pedro(self):\n",
        "        print(f\"Nome: {self.nome} | Idade: {self.idade} | Pontos: {self.__pontos}\")\n",
        "\n",
        "class Jogador_Ativo_Pedro(Jogador_Pedro):\n",
        "    def __init__(self, nome, idade, pontos, partidas):\n",
        "        super().__init__(nome, idade, pontos)\n",
        "        self.partidas = partidas\n",
        "\n",
        "    def registrar_partida_Pedro(self):\n",
        "        self.partidas += 1\n",
        "\n",
        "    def exibir_dados_Pedro(self):  # sobrescrita (polimorfismo)\n",
        "        print(f\"[Ativo] Nome: {self.nome} | Idade: {self.idade} | Pontos: {self.get_pontos_Pedro()} | Partidas: {self.partidas}\")\n",
        "\n"
      ]
    },
    {
      "cell_type": "markdown",
      "id": "3e0a77b0",
      "metadata": {
        "id": "3e0a77b0"
      },
      "source": [
        "## PARTE 3 – Encapsulamento e Abstração\n",
        "\n",
        "**Tarefas:**\n",
        "- Tornar pelo menos 1 atributo da classe principal privado (`__atributo`).\n",
        "- Criar métodos `get` e `set` para o atributo privado.\n",
        "- Implementar um método que contenha lógica interna (ex: cálculo, verificação).\n",
        "\n",
        "**Código:**"
      ]
    },
    {
      "cell_type": "code",
      "execution_count": null,
      "id": "0bdb445e",
      "metadata": {
        "id": "0bdb445e"
      },
      "outputs": [],
      "source": [
        "\n",
        "class Jogador_Pedro:\n",
        "    def __init__(self, nome, idade, pontos):\n",
        "        self.nome = nome\n",
        "        self.idade = idade\n",
        "        self.__pontos = pontos\n",
        "\n",
        "    def get_pontos_Pedro(self):\n",
        "        return self.__pontos\n",
        "\n",
        "    def set_pontos_Pedro(self, novo_valor):\n",
        "        if novo_valor >= 0:\n",
        "            self.__pontos = novo_valor\n",
        "\n",
        "    def verificar_status_Pedro(self):\n",
        "        if self.__pontos >= 100:\n",
        "            return \"Categoria: Ouro\"\n",
        "        elif self.__pontos >= 50:\n",
        "            return \"Categoria: Prata\"\n",
        "        else:\n",
        "            return \"Categoria: Bronze\"\n",
        "\n"
      ]
    },
    {
      "cell_type": "markdown",
      "id": "fb9df3e9",
      "metadata": {
        "id": "fb9df3e9"
      },
      "source": [
        "## PARTE 4 – Polimorfismo e Banco de Dados\n",
        "\n",
        "**Tarefas:**\n",
        "- Implementar polimorfismo: sobrescrever um método na subclasse.\n",
        "- Integrar o sistema com banco de dados (MySQL).\n",
        "- Implementar inserção (INSERT), consulta (SELECT) e exclusão (DELETE) de registros no banco de dados.\n",
        "\n",
        "**Código:**"
      ]
    },
    {
      "cell_type": "code",
      "execution_count": null,
      "id": "56a4c46a",
      "metadata": {
        "id": "56a4c46a"
      },
      "outputs": [],
      "source": [
        "import mysql.connector\n",
        "\n",
        "# Conexão com o banco de dados\n",
        "conexao = mysql.connector.connect(\n",
        "    host=\"localhost\",\n",
        "    user=\"root\",\n",
        "    password=\"\",\n",
        "    database=\"jogosescolares\"\n",
        ")\n",
        "cursor = conexao.cursor()\n",
        "\n",
        "# Funções de banco de dados\n",
        "def inserir_jogador_Pedro(nome, idade, pontos):\n",
        "    comando = \"INSERT INTO jogadores (nome, idade, pontos) VALUES (%s, %s, %s)\"\n",
        "    valores = (nome, idade, pontos)\n",
        "    cursor.execute(comando, valores)\n",
        "    conexao.commit()\n",
        "    print(\"Jogador inserido no banco com sucesso!\")\n",
        "\n",
        "def listar_jogadores_Pedro():\n",
        "    cursor.execute(\"SELECT * FROM jogadores ORDER BY pontos DESC\")\n",
        "    for (id, nome, idade, pontos) in cursor.fetchall():\n",
        "        print(f\"{id} | {nome} | {idade} anos | {pontos} pontos\")\n",
        "\n",
        "def deletar_jogador_Pedro(id):\n",
        "    cursor.execute(\"DELETE FROM jogadores WHERE id = %s\", (id,))\n",
        "    conexao.commit()\n",
        "    print(\"Jogador removido do banco com sucesso!\")\n",
        "\n",
        "# Polimorfismo: já está presente na subclasse acima com exibir_dados_Pedro\n"
      ]
    },
    {
      "cell_type": "markdown",
      "id": "d8bbf974",
      "metadata": {
        "id": "d8bbf974"
      },
      "source": [
        "## PARTE 5 – Projeto Final e Organização\n",
        "\n",
        "**Tarefas:**\n",
        "- Consolidar todas as partes do projeto em um único script organizado.\n",
        "- Comentar o código explicando cada parte.\n",
        "- Testar todas as funcionalidades.\n",
        "\n",
        "**Código:**"
      ]
    },
    {
      "cell_type": "code",
      "execution_count": null,
      "id": "54b3cdd7",
      "metadata": {
        "id": "54b3cdd7"
      },
      "outputs": [],
      "source": [
        "# Classe Principal\n",
        "class Jogador_Pedro:\n",
        "    def __init__(self, nome, idade, pontos):\n",
        "        self.nome = nome\n",
        "        self.idade = idade\n",
        "        self.__pontos = pontos\n",
        "\n",
        "    def get_pontos_Pedro(self):\n",
        "        return self.__pontos\n",
        "\n",
        "    def set_pontos_Pedro(self, novo_valor):\n",
        "        if novo_valor >= 0:\n",
        "            self.__pontos = novo_valor\n",
        "\n",
        "    def verificar_status_Pedro(self):\n",
        "        if self.__pontos >= 100:\n",
        "            return \"Categoria: Ouro\"\n",
        "        elif self.__pontos >= 50:\n",
        "            return \"Categoria: Prata\"\n",
        "        else:\n",
        "            return \"Categoria: Bronze\"\n",
        "\n",
        "    def adicionar_pontos_Pedro(self, valor):\n",
        "        self.__pontos += valor\n",
        "\n",
        "    def remover_pontos_Pedro(self, valor):\n",
        "        self.__pontos -= valor\n",
        "\n",
        "    def exibir_dados_Pedro(self):\n",
        "        print(f\"Nome: {self.nome} | Idade: {self.idade} | Pontos: {self.__pontos}\")\n",
        "\n",
        "# Subclasse\n",
        "class Jogador_Ativo_Pedro(Jogador_Pedro):\n",
        "    def __init__(self, nome, idade, pontos, partidas):\n",
        "        super().__init__(nome, idade, pontos)\n",
        "        self.partidas = partidas\n",
        "\n",
        "    def registrar_partida_Pedro(self):\n",
        "        self.partidas += 1\n",
        "\n",
        "    def exibir_dados_Pedro(self):\n",
        "        print(f\"[Ativo] Nome: {self.nome} | Idade: {self.idade} | Pontos: {self.get_pontos_Pedro()} | Partidas: {self.partidas}\")\n",
        "\n",
        "# Conexão com o banco\n",
        "import mysql.connector\n",
        "\n",
        "conexao = mysql.connector.connect(\n",
        "    host=\"localhost\",\n",
        "    user=\"root\",\n",
        "    password=\"\",\n",
        "    database=\"jogosescolares\"\n",
        ")\n",
        "cursor = conexao.cursor()\n",
        "\n",
        "# Funções do banco\n",
        "def inserir_jogador_Pedro(nome, idade, pontos):\n",
        "    cursor.execute(\"INSERT INTO jogadores (nome, idade, pontos) VALUES (%s, %s, %s)\", (nome, idade, pontos))\n",
        "    conexao.commit()\n",
        "    print(\"Jogador inserido com sucesso!\")\n",
        "\n",
        "def listar_jogadores_Pedro():\n",
        "    cursor.execute(\"SELECT * FROM jogadores ORDER BY pontos DESC\")\n",
        "    for (id, nome, idade, pontos) in cursor.fetchall():\n",
        "        print(f\"{id} | {nome} | {idade} anos | {pontos} pontos\")\n",
        "\n",
        "def deletar_jogador_Pedro(id):\n",
        "    cursor.execute(\"DELETE FROM jogadores WHERE id = %s\", (id,))\n",
        "    conexao.commit()\n",
        "    print(\"Jogador deletado com sucesso!\")\n",
        "\n",
        "# Menu com inputs\n",
        "def menu_Pedro():\n",
        "    while True:\n",
        "        print(\"\\n1 - Inserir jogador\")\n",
        "        print(\"2 - Mostrar ranking\")\n",
        "        print(\"3 - Deletar jogador\")\n",
        "        print(\"4 - Sair\")\n",
        "        opcao = input(\"Escolha uma opção: \")\n",
        "\n",
        "        if opcao == \"1\":\n",
        "            nome = input(\"Nome: \")\n",
        "            idade = int(input(\"Idade: \"))\n",
        "            pontos = int(input(\"Pontos: \"))\n",
        "            inserir_jogador_Pedro(nome, idade, pontos)\n",
        "\n",
        "        elif opcao == \"2\":\n",
        "            listar_jogadores_Pedro()\n",
        "\n",
        "        elif opcao == \"3\":\n",
        "            id_jogador = int(input(\"ID do jogador: \"))\n",
        "            deletar_jogador_Pedro(id_jogador)\n",
        "\n",
        "        elif opcao == \"4\":\n",
        "            print(\"Encerrando sistema...\")\n",
        "            break\n",
        "        else:\n",
        "            print(\"Opção inválida!\")\n",
        "\n",
        "# Iniciar menu\n",
        "menu_Pedro()\n"
      ]
    }
  ],
  "metadata": {
    "kernelspec": {
      "display_name": "Python 3 (ipykernel)",
      "language": "python",
      "name": "python3"
    },
    "language_info": {
      "codemirror_mode": {
        "name": "ipython",
        "version": 3
      },
      "file_extension": ".py",
      "mimetype": "text/x-python",
      "name": "python",
      "nbconvert_exporter": "python",
      "pygments_lexer": "ipython3",
      "version": "3.9.13"
    },
    "colab": {
      "provenance": []
    }
  },
  "nbformat": 4,
  "nbformat_minor": 5
}